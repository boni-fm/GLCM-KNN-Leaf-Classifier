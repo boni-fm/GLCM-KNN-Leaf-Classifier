{
  "nbformat": 4,
  "nbformat_minor": 0,
  "metadata": {
    "colab": {
      "provenance": []
    },
    "kernelspec": {
      "name": "python3",
      "display_name": "Python 3"
    },
    "language_info": {
      "name": "python"
    }
  },
  "cells": [
    {
      "cell_type": "markdown",
      "metadata": {
        "id": "a2EM9PXNS-ZF"
      },
      "source": [
        "#Tester"
      ]
    },
    {
      "cell_type": "markdown",
      "metadata": {
        "id": "vugjpfryuy18"
      },
      "source": [
        "##Import Dataset"
      ]
    },
    {
      "cell_type": "code",
      "metadata": {
        "id": "8mT4X4qAt3Em"
      },
      "source": [
        "import pandas as pd"
      ],
      "execution_count": null,
      "outputs": []
    },
    {
      "cell_type": "code",
      "metadata": {
        "id": "W4_ZW9H-Nd5e"
      },
      "source": [
        "dummy_glcm = pd.read_csv('flower.csv')"
      ],
      "execution_count": null,
      "outputs": []
    },
    {
      "cell_type": "code",
      "metadata": {
        "id": "x6PmGTsYNkfh"
      },
      "source": [
        "X = dummy_glcm.drop('class', axis=1)\n",
        "y = dummy_glcm['class']\n"
      ],
      "execution_count": null,
      "outputs": []
    },
    {
      "cell_type": "code",
      "metadata": {
        "id": "tRgaEWuFps_Y"
      },
      "source": [
        "a = pd.read_csv('train1.csv')\n",
        "b = pd.read_csv('test1.csv')\n",
        "\n",
        "X_train = a.drop('class', axis=1)\n",
        "X_test = b.drop('class', axis=1)\n",
        "\n",
        "y_train = a['class']\n",
        "y_test = b['class']"
      ],
      "execution_count": null,
      "outputs": []
    },
    {
      "cell_type": "markdown",
      "metadata": {
        "id": "qOU4ZE1-5egK"
      },
      "source": [
        "##Split Data (Train, Test)"
      ]
    },
    {
      "cell_type": "code",
      "metadata": {
        "id": "L0JYSDw85dn3"
      },
      "source": [
        "from sklearn.model_selection import train_test_split"
      ],
      "execution_count": null,
      "outputs": []
    },
    {
      "cell_type": "code",
      "metadata": {
        "id": "RhRHFFTd6G5E"
      },
      "source": [
        "X_train, X_test, y_train, y_test = train_test_split(X, y, test_size=0.2)"
      ],
      "execution_count": null,
      "outputs": []
    },
    {
      "cell_type": "markdown",
      "metadata": {
        "id": "OQd032pFCM4F"
      },
      "source": [
        "##KNN"
      ]
    },
    {
      "cell_type": "code",
      "metadata": {
        "id": "kjt9Yn1ICQsL"
      },
      "source": [
        "from sklearn.model_selection import train_test_split\n",
        "from sklearn.neighbors import KNeighborsClassifier"
      ],
      "execution_count": null,
      "outputs": []
    },
    {
      "cell_type": "code",
      "metadata": {
        "colab": {
          "base_uri": "https://localhost:8080/"
        },
        "id": "lMVtBtHMEZ3m",
        "outputId": "847fc213-d515-429c-d86f-167186f59118"
      },
      "source": [
        "knn_clf=KNeighborsClassifier(n_neighbors=3)\n",
        "knn_clf.fit(X_train,y_train)"
      ],
      "execution_count": null,
      "outputs": [
        {
          "output_type": "execute_result",
          "data": {
            "text/plain": [
              "KNeighborsClassifier(n_neighbors=3)"
            ]
          },
          "metadata": {},
          "execution_count": 63
        }
      ]
    },
    {
      "cell_type": "code",
      "metadata": {
        "colab": {
          "base_uri": "https://localhost:8080/"
        },
        "id": "52T0gsYWFGGo",
        "outputId": "880ca08c-7a07-4886-b49d-9035ca0e59ed"
      },
      "source": [
        "pred = knn_clf.predict(X_test)\n",
        "pred"
      ],
      "execution_count": null,
      "outputs": [
        {
          "output_type": "execute_result",
          "data": {
            "text/plain": [
              "array(['sunflower', 'dandelion', 'dandelion', 'dandelion', 'sunflower',\n",
              "       'dandelion', 'daisy', 'tulip', 'daisy', 'sunflower', 'sunflower',\n",
              "       'rose', 'dandelion', 'rose', 'rose', 'rose', 'sunflower', 'daisy',\n",
              "       'dandelion', 'dandelion', 'tulip', 'sunflower', 'daisy', 'daisy',\n",
              "       'sunflower', 'sunflower', 'daisy', 'daisy'], dtype=object)"
            ]
          },
          "metadata": {},
          "execution_count": 57
        }
      ]
    },
    {
      "cell_type": "code",
      "metadata": {
        "colab": {
          "base_uri": "https://localhost:8080/"
        },
        "id": "V0ewx0afFOjH",
        "outputId": "88cca6c6-97ea-4975-c5b0-3d3a572662cf"
      },
      "source": [
        "from sklearn.metrics import classification_report, confusion_matrix, accuracy_score\n",
        "\n",
        "result = confusion_matrix(y_test, pred)\n",
        "print('Confusion Matrix:')\n",
        "print(result)\n",
        "result1 = classification_report(y_test, pred)\n",
        "print('Classification Report:',result1)\n",
        "result2 = accuracy_score(y_test,pred)\n",
        "print('Accuracy:',result2)  "
      ],
      "execution_count": null,
      "outputs": [
        {
          "output_type": "stream",
          "name": "stdout",
          "text": [
            "Confusion Matrix:\n",
            "[[3 4 0 0 0]\n",
            " [0 0 1 5 1]\n",
            " [1 1 2 1 1]\n",
            " [1 1 0 0 0]\n",
            " [2 1 1 2 0]]\n",
            "Classification Report:               precision    recall  f1-score   support\n",
            "\n",
            "       daisy       0.43      0.43      0.43         7\n",
            "   dandelion       0.00      0.00      0.00         7\n",
            "        rose       0.50      0.33      0.40         6\n",
            "   sunflower       0.00      0.00      0.00         2\n",
            "       tulip       0.00      0.00      0.00         6\n",
            "\n",
            "    accuracy                           0.18        28\n",
            "   macro avg       0.19      0.15      0.17        28\n",
            "weighted avg       0.21      0.18      0.19        28\n",
            "\n",
            "Accuracy: 0.17857142857142858\n"
          ]
        }
      ]
    },
    {
      "cell_type": "code",
      "metadata": {
        "id": "Q9TxEHfZIGk4"
      },
      "source": [
        "import numpy as np\n",
        "\n",
        "error = []\n",
        "acc = []\n",
        "for i in range(1, 20):\n",
        "  knn = KNeighborsClassifier(n_neighbors=i)\n",
        "  knn.fit(X_train, y_train)\n",
        "  pred_i = knn.predict(X_test)\n",
        "  error.append(np.mean(pred_i != y_test))\n",
        "  acc.append(accuracy_score(y_test,pred_i))\n"
      ],
      "execution_count": null,
      "outputs": []
    },
    {
      "cell_type": "code",
      "metadata": {
        "colab": {
          "base_uri": "https://localhost:8080/"
        },
        "id": "Q0OU0-YTLepc",
        "outputId": "5c679ea5-c292-4fc4-d382-5f8b7df8790c"
      },
      "source": [
        "max(acc)"
      ],
      "execution_count": null,
      "outputs": [
        {
          "output_type": "execute_result",
          "data": {
            "text/plain": [
              "0.5128205128205128"
            ]
          },
          "metadata": {},
          "execution_count": 75
        }
      ]
    },
    {
      "cell_type": "markdown",
      "metadata": {
        "id": "QkdMid4AMKUT"
      },
      "source": [
        "##Test pake min max scaller"
      ]
    },
    {
      "cell_type": "code",
      "metadata": {
        "id": "O4DqlBXeMJ23"
      },
      "source": [
        "from sklearn import preprocessing\n",
        "from sklearn.model_selection import train_test_split"
      ],
      "execution_count": null,
      "outputs": []
    },
    {
      "cell_type": "code",
      "metadata": {
        "id": "eXRLgbe0MSCD"
      },
      "source": [
        "MinMaxScaler = preprocessing.MinMaxScaler()"
      ],
      "execution_count": null,
      "outputs": []
    },
    {
      "cell_type": "code",
      "metadata": {
        "id": "HBRMxGOMMn8t"
      },
      "source": [
        "X_data_minmax = MinMaxScaler.fit_transform(X_train)\n",
        "X_minmax_train = pd.DataFrame(X_data_minmax,columns=['mean', 'skewness', 'kurtosis', 'contrast', 'correlation', 'energy', 'homogeneity'])\n",
        "\n",
        "train_data_minmax = MinMaxScaler.fit_transform(X_test)\n",
        "X_minmax_test = pd.DataFrame(train_data_minmax,columns=['mean', 'skewness', 'kurtosis', 'contrast', 'correlation', 'energy', 'homogeneity'])"
      ],
      "execution_count": null,
      "outputs": []
    },
    {
      "cell_type": "code",
      "metadata": {
        "id": "pLeEAMhcNR_T"
      },
      "source": [
        "import numpy as np\n",
        "\n",
        "error = []\n",
        "acc = []\n",
        "for i in range(1, 20):\n",
        "  knn = KNeighborsClassifier(n_neighbors=i)\n",
        "  knn.fit(X_minmax_train, y_train)\n",
        "  pred_i = knn.predict(X_minmax_test)\n",
        "  error.append(np.mean(pred_i != y_test))\n",
        "  acc.append(accuracy_score(y_test,pred_i))"
      ],
      "execution_count": null,
      "outputs": []
    },
    {
      "cell_type": "code",
      "metadata": {
        "colab": {
          "base_uri": "https://localhost:8080/"
        },
        "id": "q32AbfBcNkx3",
        "outputId": "2a0828e5-20fa-4d4b-a015-20a5b7da05e3"
      },
      "source": [
        "max(acc)"
      ],
      "execution_count": null,
      "outputs": [
        {
          "output_type": "execute_result",
          "data": {
            "text/plain": [
              "0.46153846153846156"
            ]
          },
          "metadata": {},
          "execution_count": 79
        }
      ]
    },
    {
      "cell_type": "code",
      "metadata": {
        "colab": {
          "base_uri": "https://localhost:8080/"
        },
        "id": "pCf4U6AKxkQs",
        "outputId": "00cec771-a408-40aa-8b45-7ea075d33402"
      },
      "source": [
        "X.shape"
      ],
      "execution_count": null,
      "outputs": [
        {
          "output_type": "execute_result",
          "data": {
            "text/plain": [
              "(138, 7)"
            ]
          },
          "metadata": {},
          "execution_count": 87
        }
      ]
    },
    {
      "cell_type": "code",
      "metadata": {
        "colab": {
          "base_uri": "https://localhost:8080/",
          "height": 280
        },
        "id": "5bu39zD2uzl_",
        "outputId": "e8c743f0-1bfe-4597-a3ed-02fff4f6e526"
      },
      "source": [
        "import seaborn as sn\n",
        "sn.boxplot(x='class', y='contrast', data=a);"
      ],
      "execution_count": null,
      "outputs": [
        {
          "output_type": "display_data",
          "data": {
            "image/png": "[encoded data removed]",
            "text/plain": [
              "<Figure size 432x288 with 1 Axes>"
            ]
          },
          "metadata": {
            "needs_background": "light"
          }
        }
      ]
    },
    {
      "cell_type": "markdown",
      "metadata": {
        "id": "TBhA5rq9THCw"
      },
      "source": [
        "#KNN dengan fitur GLCM 1"
      ]
    },
    {
      "cell_type": "markdown",
      "metadata": {
        "id": "-HKDezX1THCy"
      },
      "source": [
        "##Import Dataset"
      ]
    },
    {
      "cell_type": "code",
      "metadata": {
        "id": "ml-9VXWOTHCz"
      },
      "source": [
        "import pandas as pd"
      ],
      "execution_count": null,
      "outputs": []
    },
    {
      "cell_type": "code",
      "metadata": {
        "id": "gNUDGgiXTHC2"
      },
      "source": [
        "dummy_glcm = pd.read_csv('glcm1.csv')"
      ],
      "execution_count": null,
      "outputs": []
    },
    {
      "cell_type": "code",
      "metadata": {
        "id": "6HepGISgTHC3"
      },
      "source": [
        "X = dummy_glcm.drop('class', axis=1)\n",
        "y = dummy_glcm['class']\n"
      ],
      "execution_count": null,
      "outputs": []
    },
    {
      "cell_type": "markdown",
      "metadata": {
        "id": "wyF8PQbeTHC4"
      },
      "source": [
        "##Split Data (Train, Test)"
      ]
    },
    {
      "cell_type": "code",
      "metadata": {
        "id": "y7J2ntCETHC5"
      },
      "source": [
        "from sklearn.model_selection import train_test_split"
      ],
      "execution_count": null,
      "outputs": []
    },
    {
      "cell_type": "code",
      "metadata": {
        "id": "erBpaTFkTHC6"
      },
      "source": [
        "X_train, X_test, y_train, y_test = train_test_split(X, y, test_size=0.3)"
      ],
      "execution_count": null,
      "outputs": []
    },
    {
      "cell_type": "markdown",
      "metadata": {
        "id": "NG0h1T0PTHC7"
      },
      "source": [
        "##KNN"
      ]
    },
    {
      "cell_type": "code",
      "metadata": {
        "id": "0hJixMXNTHC7"
      },
      "source": [
        "from sklearn.model_selection import train_test_split\n",
        "from sklearn.neighbors import KNeighborsClassifier"
      ],
      "execution_count": null,
      "outputs": []
    },
    {
      "cell_type": "code",
      "metadata": {
        "colab": {
          "base_uri": "https://localhost:8080/"
        },
        "id": "VoQ1ZgSNTHC9",
        "outputId": "a818108d-9df6-43d5-eae1-28ca28b1d925"
      },
      "source": [
        "knn_clf=KNeighborsClassifier(n_neighbors=3)\n",
        "knn_clf.fit(X_train,y_train)"
      ],
      "execution_count": null,
      "outputs": [
        {
          "output_type": "execute_result",
          "data": {
            "text/plain": [
              "KNeighborsClassifier(n_neighbors=3)"
            ]
          },
          "metadata": {},
          "execution_count": 7
        }
      ]
    },
    {
      "cell_type": "code",
      "metadata": {
        "colab": {
          "base_uri": "https://localhost:8080/"
        },
        "id": "-wFO4RxcTHC-",
        "outputId": "24c805fc-2fa6-47f2-ea0d-487720724e9a"
      },
      "source": [
        "pred = knn_clf.predict(X_test)\n",
        "pred"
      ],
      "execution_count": null,
      "outputs": [
        {
          "output_type": "execute_result",
          "data": {
            "text/plain": [
              "array(['rose', 'daisy', 'daisy', ..., 'rose', 'daisy', 'dandelion'],\n",
              "      dtype=object)"
            ]
          },
          "metadata": {},
          "execution_count": 8
        }
      ]
    },
    {
      "cell_type": "code",
      "metadata": {
        "colab": {
          "base_uri": "https://localhost:8080/"
        },
        "id": "F7VaXF1sTHC_",
        "outputId": "ca619d12-cbf8-4a95-d13f-5d89a4ea18a3"
      },
      "source": [
        "from sklearn.metrics import classification_report, confusion_matrix, accuracy_score\n",
        "\n",
        "result = confusion_matrix(y_test, pred)\n",
        "print('Confusion Matrix:')\n",
        "print(result)\n",
        "result1 = classification_report(y_test, pred)\n",
        "print('Classification Report:',result1)\n",
        "result2 = accuracy_score(y_test,pred)\n",
        "print('Accuracy:',result2)  "
      ],
      "execution_count": null,
      "outputs": [
        {
          "output_type": "stream",
          "name": "stdout",
          "text": [
            "Confusion Matrix:\n",
            "[[ 86  65  39   9  26]\n",
            " [102 103  46  19  48]\n",
            " [ 65  66  43  23  37]\n",
            " [ 70  69  32  26  31]\n",
            " [ 88  92  40  19  52]]\n",
            "Classification Report:               precision    recall  f1-score   support\n",
            "\n",
            "       daisy       0.21      0.38      0.27       225\n",
            "   dandelion       0.26      0.32      0.29       318\n",
            "        rose       0.21      0.18      0.20       234\n",
            "   sunflower       0.27      0.11      0.16       228\n",
            "       tulip       0.27      0.18      0.21       291\n",
            "\n",
            "    accuracy                           0.24      1296\n",
            "   macro avg       0.24      0.24      0.23      1296\n",
            "weighted avg       0.25      0.24      0.23      1296\n",
            "\n",
            "Accuracy: 0.23919753086419754\n"
          ]
        }
      ]
    },
    {
      "cell_type": "code",
      "metadata": {
        "id": "Kd2n4_WFTHDA"
      },
      "source": [
        "import numpy as np\n",
        "\n",
        "error = []\n",
        "acc = []\n",
        "for i in range(1, 100):\n",
        "  knn = KNeighborsClassifier(n_neighbors=i)\n",
        "  knn.fit(X_train, y_train)\n",
        "  pred_i = knn.predict(X_test)\n",
        "  error.append(np.mean(pred_i != y_test))\n",
        "  acc.append(accuracy_score(y_test,pred_i))"
      ],
      "execution_count": null,
      "outputs": []
    },
    {
      "cell_type": "code",
      "metadata": {
        "colab": {
          "base_uri": "https://localhost:8080/"
        },
        "id": "_DMdbIUzTHDB",
        "outputId": "546e110a-fead-4a8f-ea7e-0185f5b76370"
      },
      "source": [
        "max(acc)"
      ],
      "execution_count": null,
      "outputs": [
        {
          "output_type": "execute_result",
          "data": {
            "text/plain": [
              "0.2854938271604938"
            ]
          },
          "metadata": {},
          "execution_count": 11
        }
      ]
    },
    {
      "cell_type": "code",
      "metadata": {
        "colab": {
          "base_uri": "https://localhost:8080/"
        },
        "id": "doLASn3udOqu",
        "outputId": "c0cffebe-3fd9-4943-b386-0a43ba0e7033"
      },
      "source": [
        "#Get the index\n",
        "import numpy as np\n",
        "np.argmax(acc)"
      ],
      "execution_count": null,
      "outputs": [
        {
          "output_type": "execute_result",
          "data": {
            "text/plain": [
              "22"
            ]
          },
          "metadata": {},
          "execution_count": 12
        }
      ]
    },
    {
      "cell_type": "markdown",
      "metadata": {
        "id": "UeWU5HMyTHDB"
      },
      "source": [
        "##Test pake min max scaller"
      ]
    },
    {
      "cell_type": "code",
      "metadata": {
        "id": "VOp_sYx3THDC"
      },
      "source": [
        "from sklearn import preprocessing\n",
        "from sklearn.model_selection import train_test_split"
      ],
      "execution_count": null,
      "outputs": []
    },
    {
      "cell_type": "code",
      "metadata": {
        "id": "_v_UecgjTHDC"
      },
      "source": [
        "MinMaxScaler = preprocessing.MinMaxScaler()"
      ],
      "execution_count": null,
      "outputs": []
    },
    {
      "cell_type": "code",
      "metadata": {
        "id": "Z9XybhNbTHDD"
      },
      "source": [
        "X_data_minmax = MinMaxScaler.fit_transform(X_train)\n",
        "X_minmax_train1 = pd.DataFrame(X_data_minmax,columns=['mean', 'skewness', 'kurtosis'])\n",
        "\n",
        "train_data_minmax = MinMaxScaler.fit_transform(X_test)\n",
        "X_minmax_test1 = pd.DataFrame(train_data_minmax,columns=['mean', 'skewness', 'kurtosis'])"
      ],
      "execution_count": null,
      "outputs": []
    },
    {
      "cell_type": "code",
      "metadata": {
        "id": "tePbDyePTHDD"
      },
      "source": [
        "import numpy as np\n",
        "\n",
        "error = []\n",
        "acc = []\n",
        "for i in range(1, 100):\n",
        "  knn = KNeighborsClassifier(n_neighbors=i)\n",
        "  knn.fit(X_minmax_train1, y_train)\n",
        "  pred_i = knn.predict(X_minmax_test1)\n",
        "  error.append(np.mean(pred_i != y_test))\n",
        "  acc.append(accuracy_score(y_test,pred_i))"
      ],
      "execution_count": null,
      "outputs": []
    },
    {
      "cell_type": "code",
      "metadata": {
        "colab": {
          "base_uri": "https://localhost:8080/"
        },
        "id": "s2JFOmTzTHDE",
        "outputId": "2765b719-9a08-4fe0-cd13-fe5d306d52b0"
      },
      "source": [
        "max(acc)"
      ],
      "execution_count": null,
      "outputs": [
        {
          "output_type": "execute_result",
          "data": {
            "text/plain": [
              "0.2638888888888889"
            ]
          },
          "metadata": {},
          "execution_count": 17
        }
      ]
    },
    {
      "cell_type": "markdown",
      "metadata": {
        "id": "_fiu39KDv_Wv"
      },
      "source": [
        "##GRAPH"
      ]
    },
    {
      "cell_type": "code",
      "metadata": {
        "colab": {
          "base_uri": "https://localhost:8080/",
          "height": 499
        },
        "id": "OdA-1I7qv_Ww",
        "outputId": "42337214-b8e0-4b7b-ad77-528f365b8670"
      },
      "source": [
        "import matplotlib.pyplot as plt\n",
        "\n",
        "plt.figure(figsize=(15,8))\n",
        "plt.plot(acc,color='red', linestyle='dashed', linewidth = 1,\n",
        "         marker='o', markerfacecolor='green', markersize=10)\n",
        "plt.grid(True, linestyle='-', linewidth=2, alpha=0.3, axis='y')\n",
        "plt.title('Akurasi KNN 1 - 100')\n",
        "plt.show()"
      ],
      "execution_count": null,
      "outputs": [
        {
          "output_type": "display_data",
          "data": {
            "image/png": "[encoded data removed]",
            "text/plain": [
              "<Figure size 1080x576 with 1 Axes>"
            ]
          },
          "metadata": {
            "needs_background": "light"
          }
        }
      ]
    },
    {
      "cell_type": "markdown",
      "metadata": {
        "id": "-5VLfD4JdyN2"
      },
      "source": [
        "#KNN dengan fitur GLCM 2"
      ]
    },
    {
      "cell_type": "markdown",
      "metadata": {
        "id": "_6wNiSFRdyN3"
      },
      "source": [
        "##Import Dataset"
      ]
    },
    {
      "cell_type": "code",
      "metadata": {
        "id": "xDQGvqjudyN5"
      },
      "source": [
        "import pandas as pd"
      ],
      "execution_count": null,
      "outputs": []
    },
    {
      "cell_type": "code",
      "metadata": {
        "id": "HbcwqxVjdyN6"
      },
      "source": [
        "dummy_glcm = pd.read_csv('glcm2.csv')"
      ],
      "execution_count": null,
      "outputs": []
    },
    {
      "cell_type": "code",
      "metadata": {
        "id": "3iRKhs_GdyN6"
      },
      "source": [
        "X = dummy_glcm.drop('class', axis=1)\n",
        "y = dummy_glcm['class']\n"
      ],
      "execution_count": null,
      "outputs": []
    },
    {
      "cell_type": "markdown",
      "metadata": {
        "id": "BpVKc_A4dyN7"
      },
      "source": [
        "##Split Data (Train, Test)"
      ]
    },
    {
      "cell_type": "code",
      "metadata": {
        "id": "JndzUg4TdyN8"
      },
      "source": [
        "from sklearn.model_selection import train_test_split"
      ],
      "execution_count": null,
      "outputs": []
    },
    {
      "cell_type": "code",
      "metadata": {
        "id": "Lt1ajplqdyN9"
      },
      "source": [
        "X_train, X_test, y_train, y_test = train_test_split(X, y, test_size=0.3)"
      ],
      "execution_count": null,
      "outputs": []
    },
    {
      "cell_type": "markdown",
      "metadata": {
        "id": "FC3flRJPdyN-"
      },
      "source": [
        "##KNN"
      ]
    },
    {
      "cell_type": "code",
      "metadata": {
        "id": "D471PMLydyN_"
      },
      "source": [
        "from sklearn.model_selection import train_test_split\n",
        "from sklearn.neighbors import KNeighborsClassifier"
      ],
      "execution_count": null,
      "outputs": []
    },
    {
      "cell_type": "code",
      "metadata": {
        "colab": {
          "base_uri": "https://localhost:8080/"
        },
        "id": "foWKsDSudyN_",
        "outputId": "937a9208-b741-4168-8765-d366eb6b3a74"
      },
      "source": [
        "knn_clf=KNeighborsClassifier(n_neighbors=3)\n",
        "knn_clf.fit(X_train,y_train)"
      ],
      "execution_count": null,
      "outputs": [
        {
          "output_type": "execute_result",
          "data": {
            "text/plain": [
              "KNeighborsClassifier(n_neighbors=3)"
            ]
          },
          "metadata": {},
          "execution_count": 25
        }
      ]
    },
    {
      "cell_type": "code",
      "metadata": {
        "colab": {
          "base_uri": "https://localhost:8080/"
        },
        "id": "ghc3IutFdyOC",
        "outputId": "593cec32-ad7f-4c4d-fc4d-3f26916efa09"
      },
      "source": [
        "pred = knn_clf.predict(X_test)\n",
        "pred"
      ],
      "execution_count": null,
      "outputs": [
        {
          "output_type": "execute_result",
          "data": {
            "text/plain": [
              "array(['dandelion', 'dandelion', 'sunflower', ..., 'rose', 'daisy',\n",
              "       'dandelion'], dtype=object)"
            ]
          },
          "metadata": {},
          "execution_count": 26
        }
      ]
    },
    {
      "cell_type": "code",
      "metadata": {
        "colab": {
          "base_uri": "https://localhost:8080/"
        },
        "id": "tL1FAzdrdyOC",
        "outputId": "151556f0-b4c2-4e06-c155-16cd5ddaafdc"
      },
      "source": [
        "from sklearn.metrics import classification_report, confusion_matrix, accuracy_score\n",
        "\n",
        "result = confusion_matrix(y_test, pred)\n",
        "print('Confusion Matrix:')\n",
        "print(result)\n",
        "result1 = classification_report(y_test, pred)\n",
        "print('Classification Report:',result1)\n",
        "result2 = accuracy_score(y_test,pred)\n",
        "print('Accuracy:',result2)  "
      ],
      "execution_count": null,
      "outputs": [
        {
          "output_type": "stream",
          "name": "stdout",
          "text": [
            "Confusion Matrix:\n",
            "[[ 99  66  19  16  32]\n",
            " [ 90 103  47  26  39]\n",
            " [ 59  94  31  27  32]\n",
            " [ 52  52  29  37  40]\n",
            " [ 78  89  36  42  61]]\n",
            "Classification Report:               precision    recall  f1-score   support\n",
            "\n",
            "       daisy       0.26      0.43      0.32       232\n",
            "   dandelion       0.25      0.34      0.29       305\n",
            "        rose       0.19      0.13      0.15       243\n",
            "   sunflower       0.25      0.18      0.21       210\n",
            "       tulip       0.30      0.20      0.24       306\n",
            "\n",
            "    accuracy                           0.26      1296\n",
            "   macro avg       0.25      0.25      0.24      1296\n",
            "weighted avg       0.25      0.26      0.25      1296\n",
            "\n",
            "Accuracy: 0.25540123456790126\n"
          ]
        }
      ]
    },
    {
      "cell_type": "code",
      "metadata": {
        "id": "C66XA2AtdyOD"
      },
      "source": [
        "import numpy as np\n",
        "\n",
        "error = []\n",
        "acc = []\n",
        "for i in range(1, 100):\n",
        "  knn = KNeighborsClassifier(n_neighbors=i)\n",
        "  knn.fit(X_train, y_train)\n",
        "  pred_i = knn.predict(X_test)\n",
        "  error.append(np.mean(pred_i != y_test))\n",
        "  acc.append(accuracy_score(y_test,pred_i))"
      ],
      "execution_count": null,
      "outputs": []
    },
    {
      "cell_type": "code",
      "metadata": {
        "colab": {
          "base_uri": "https://localhost:8080/"
        },
        "id": "WFKr1xKWdyOD",
        "outputId": "a04cc454-987d-453b-db62-28aba0a1d343"
      },
      "source": [
        "max(acc)"
      ],
      "execution_count": null,
      "outputs": [
        {
          "output_type": "execute_result",
          "data": {
            "text/plain": [
              "0.31558641975308643"
            ]
          },
          "metadata": {},
          "execution_count": 29
        }
      ]
    },
    {
      "cell_type": "markdown",
      "metadata": {
        "id": "r1u7X2D8dyOE"
      },
      "source": [
        "##Test pake min max scaller"
      ]
    },
    {
      "cell_type": "code",
      "metadata": {
        "id": "Hrmi7_OGdyOE"
      },
      "source": [
        "from sklearn import preprocessing\n",
        "from sklearn.model_selection import train_test_split"
      ],
      "execution_count": null,
      "outputs": []
    },
    {
      "cell_type": "code",
      "metadata": {
        "id": "JD55lW3odyOF"
      },
      "source": [
        "MinMaxScaler = preprocessing.MinMaxScaler()"
      ],
      "execution_count": null,
      "outputs": []
    },
    {
      "cell_type": "code",
      "metadata": {
        "id": "iVeEUF2RdyOF"
      },
      "source": [
        "X_data_minmax = MinMaxScaler.fit_transform(X_train)\n",
        "X_minmax_train2 = pd.DataFrame(X_data_minmax,columns=['contrast', 'correlation', 'energy', 'homogeneity'])\n",
        "\n",
        "train_data_minmax = MinMaxScaler.fit_transform(X_test)\n",
        "X_minmax_test2 = pd.DataFrame(train_data_minmax,columns=['contrast', 'correlation', 'energy', 'homogeneity'])"
      ],
      "execution_count": null,
      "outputs": []
    },
    {
      "cell_type": "code",
      "metadata": {
        "id": "PupOXzp5dyOF"
      },
      "source": [
        "import numpy as np\n",
        "\n",
        "error = []\n",
        "acc = []\n",
        "for i in range(1, 100):\n",
        "  knn = KNeighborsClassifier(n_neighbors=i)\n",
        "  knn.fit(X_minmax_train2, y_train)\n",
        "  pred_i = knn.predict(X_minmax_test2)\n",
        "  error.append(np.mean(pred_i != y_test))\n",
        "  acc.append(accuracy_score(y_test,pred_i))"
      ],
      "execution_count": null,
      "outputs": []
    },
    {
      "cell_type": "code",
      "metadata": {
        "colab": {
          "base_uri": "https://localhost:8080/"
        },
        "id": "78T5z65odyOF",
        "outputId": "c62b938b-c709-4d6b-9e1f-2345cb243080"
      },
      "source": [
        "max(acc)"
      ],
      "execution_count": null,
      "outputs": [
        {
          "output_type": "execute_result",
          "data": {
            "text/plain": [
              "0.33719135802469136"
            ]
          },
          "metadata": {},
          "execution_count": 34
        }
      ]
    },
    {
      "cell_type": "markdown",
      "metadata": {
        "id": "-RcbWCHWwB8R"
      },
      "source": [
        "##GRAPH"
      ]
    },
    {
      "cell_type": "code",
      "metadata": {
        "colab": {
          "base_uri": "https://localhost:8080/",
          "height": 499
        },
        "id": "Ukb3FNRowB8S",
        "outputId": "95a3c991-98ff-4e49-d7ef-55db6c9f2e9b"
      },
      "source": [
        "import matplotlib.pyplot as plt\n",
        "\n",
        "plt.figure(figsize=(15,8))\n",
        "plt.plot(acc,color='red', linestyle='dashed', linewidth = 1,\n",
        "         marker='o', markerfacecolor='green', markersize=10)\n",
        "plt.grid(True, linestyle='-', linewidth=2, alpha=0.3, axis='y')\n",
        "plt.title('Akurasi KNN 1 - 100')\n",
        "plt.show()"
      ],
      "execution_count": null,
      "outputs": [
        {
          "output_type": "display_data",
          "data": {
            "image/png": "[encoded data removed]",
            "text/plain": [
              "<Figure size 1080x576 with 1 Axes>"
            ]
          },
          "metadata": {
            "needs_background": "light"
          }
        }
      ]
    },
    {
      "cell_type": "markdown",
      "metadata": {
        "id": "UsBlyH0geig7"
      },
      "source": [
        "#KNN dengan fitur GLCM 1 dan GLCM 2"
      ]
    },
    {
      "cell_type": "markdown",
      "metadata": {
        "id": "lj1sWSFOeig9"
      },
      "source": [
        "##Import Dataset"
      ]
    },
    {
      "cell_type": "code",
      "metadata": {
        "id": "5xNLWBUmeig_"
      },
      "source": [
        "import pandas as pd"
      ],
      "execution_count": null,
      "outputs": []
    },
    {
      "cell_type": "code",
      "metadata": {
        "id": "mIs41M6AeihA"
      },
      "source": [
        "dummy_glcm = pd.read_csv('glcm.csv')"
      ],
      "execution_count": null,
      "outputs": []
    },
    {
      "cell_type": "code",
      "metadata": {
        "id": "0nPTfqkIeihA"
      },
      "source": [
        "X = dummy_glcm.drop('class', axis=1)\n",
        "y = dummy_glcm['class']\n"
      ],
      "execution_count": null,
      "outputs": []
    },
    {
      "cell_type": "markdown",
      "metadata": {
        "id": "7L6zXtZ0eihB"
      },
      "source": [
        "##Split Data (Train, Test)"
      ]
    },
    {
      "cell_type": "code",
      "metadata": {
        "id": "3kBo-y4WeihB"
      },
      "source": [
        "from sklearn.model_selection import train_test_split"
      ],
      "execution_count": null,
      "outputs": []
    },
    {
      "cell_type": "code",
      "metadata": {
        "id": "k87O_sOxeihD"
      },
      "source": [
        "X_train, X_test, y_train, y_test = train_test_split(X, y, test_size=0.3)"
      ],
      "execution_count": null,
      "outputs": []
    },
    {
      "cell_type": "markdown",
      "metadata": {
        "id": "fTtAG3peeihD"
      },
      "source": [
        "##KNN"
      ]
    },
    {
      "cell_type": "code",
      "metadata": {
        "id": "qGkNc_s_eihE"
      },
      "source": [
        "from sklearn.model_selection import train_test_split\n",
        "from sklearn.neighbors import KNeighborsClassifier"
      ],
      "execution_count": null,
      "outputs": []
    },
    {
      "cell_type": "code",
      "metadata": {
        "colab": {
          "base_uri": "https://localhost:8080/"
        },
        "id": "2ud1tWA3eihF",
        "outputId": "c0bd89bd-f6d0-48ae-ad4f-b40ab1574888"
      },
      "source": [
        "knn_clf=KNeighborsClassifier(n_neighbors=3)\n",
        "knn_clf.fit(X_train,y_train)"
      ],
      "execution_count": null,
      "outputs": [
        {
          "output_type": "execute_result",
          "data": {
            "text/plain": [
              "KNeighborsClassifier(n_neighbors=3)"
            ]
          },
          "metadata": {},
          "execution_count": 42
        }
      ]
    },
    {
      "cell_type": "code",
      "metadata": {
        "colab": {
          "base_uri": "https://localhost:8080/"
        },
        "id": "XpAXWlO5eihG",
        "outputId": "0db965e1-ff88-4c9b-fe95-ed95541a48a9"
      },
      "source": [
        "pred = knn_clf.predict(X_test)\n",
        "pred"
      ],
      "execution_count": null,
      "outputs": [
        {
          "output_type": "execute_result",
          "data": {
            "text/plain": [
              "array(['daisy', 'daisy', 'dandelion', ..., 'daisy', 'dandelion',\n",
              "       'dandelion'], dtype=object)"
            ]
          },
          "metadata": {},
          "execution_count": 43
        }
      ]
    },
    {
      "cell_type": "code",
      "metadata": {
        "colab": {
          "base_uri": "https://localhost:8080/"
        },
        "id": "9lV6DoaGeihH",
        "outputId": "8e78b889-2ab7-483a-cccd-53c73955cdf2"
      },
      "source": [
        "from sklearn.metrics import classification_report, confusion_matrix, accuracy_score\n",
        "\n",
        "result = confusion_matrix(y_test, pred)\n",
        "print('Confusion Matrix:')\n",
        "print(result)\n",
        "result1 = classification_report(y_test, pred)\n",
        "print('Classification Report:',result1)\n",
        "result2 = accuracy_score(y_test,pred)\n",
        "print('Accuracy:',result2)  "
      ],
      "execution_count": null,
      "outputs": [
        {
          "output_type": "stream",
          "name": "stdout",
          "text": [
            "Confusion Matrix:\n",
            "[[ 93  76  26  16  28]\n",
            " [ 88 116  43  24  30]\n",
            " [ 74  84  40  17  34]\n",
            " [ 46  66  29  38  34]\n",
            " [ 81  92  38  27  56]]\n",
            "Classification Report:               precision    recall  f1-score   support\n",
            "\n",
            "       daisy       0.24      0.39      0.30       239\n",
            "   dandelion       0.27      0.39      0.32       301\n",
            "        rose       0.23      0.16      0.19       249\n",
            "   sunflower       0.31      0.18      0.23       213\n",
            "       tulip       0.31      0.19      0.24       294\n",
            "\n",
            "    accuracy                           0.26      1296\n",
            "   macro avg       0.27      0.26      0.25      1296\n",
            "weighted avg       0.27      0.26      0.26      1296\n",
            "\n",
            "Accuracy: 0.2646604938271605\n"
          ]
        }
      ]
    },
    {
      "cell_type": "code",
      "metadata": {
        "id": "DgMKLWczeihH"
      },
      "source": [
        "import numpy as np\n",
        "\n",
        "error = []\n",
        "acc = []\n",
        "for i in range(1, 100):\n",
        "  knn = KNeighborsClassifier(n_neighbors=i)\n",
        "  knn.fit(X_train, y_train)\n",
        "  pred_i = knn.predict(X_test)\n",
        "  error.append(np.mean(pred_i != y_test))\n",
        "  acc.append(accuracy_score(y_test,pred_i))"
      ],
      "execution_count": null,
      "outputs": []
    },
    {
      "cell_type": "code",
      "metadata": {
        "colab": {
          "base_uri": "https://localhost:8080/"
        },
        "id": "DotWyNKMeihI",
        "outputId": "39b94baa-5668-4ac0-c34d-7a5da0ca75dc"
      },
      "source": [
        "max(acc)"
      ],
      "execution_count": null,
      "outputs": [
        {
          "output_type": "execute_result",
          "data": {
            "text/plain": [
              "0.2962962962962963"
            ]
          },
          "metadata": {},
          "execution_count": 46
        }
      ]
    },
    {
      "cell_type": "markdown",
      "metadata": {
        "id": "rikpMxm3eihJ"
      },
      "source": [
        "##Test pake min max scaller"
      ]
    },
    {
      "cell_type": "code",
      "metadata": {
        "id": "hJfXb0uYeihJ"
      },
      "source": [
        "from sklearn import preprocessing\n",
        "from sklearn.model_selection import train_test_split"
      ],
      "execution_count": null,
      "outputs": []
    },
    {
      "cell_type": "code",
      "metadata": {
        "id": "BYB7T-HjeihK"
      },
      "source": [
        "MinMaxScaler = preprocessing.MinMaxScaler()"
      ],
      "execution_count": null,
      "outputs": []
    },
    {
      "cell_type": "code",
      "metadata": {
        "id": "Vca8n0vAeihK"
      },
      "source": [
        "X_data_minmax = MinMaxScaler.fit_transform(X_train)\n",
        "X_minmax_train = pd.DataFrame(X_data_minmax,columns=['mean', 'skewness', 'kurtosis', 'contrast', 'correlation', 'energy', 'homogeneity'])\n",
        "\n",
        "train_data_minmax = MinMaxScaler.fit_transform(X_test)\n",
        "X_minmax_test = pd.DataFrame(train_data_minmax,columns=['mean', 'skewness', 'kurtosis', 'contrast', 'correlation', 'energy', 'homogeneity'])"
      ],
      "execution_count": null,
      "outputs": []
    },
    {
      "cell_type": "code",
      "metadata": {
        "id": "Soex0EGheihK"
      },
      "source": [
        "import numpy as np\n",
        "\n",
        "error = []\n",
        "acc = []\n",
        "for i in range(1, 50):\n",
        "  knn = KNeighborsClassifier(n_neighbors=i)\n",
        "  knn.fit(X_minmax_train, y_train)\n",
        "  pred_i = knn.predict(X_minmax_test)\n",
        "  error.append(np.mean(pred_i != y_test)*100)\n",
        "  acc.append(accuracy_score(y_test,pred_i)*100)"
      ],
      "execution_count": null,
      "outputs": []
    },
    {
      "cell_type": "code",
      "metadata": {
        "colab": {
          "base_uri": "https://localhost:8080/"
        },
        "id": "kB4VCMyUeihM",
        "outputId": "2bc9fae8-e741-4524-bcc9-32a91e3e0f51"
      },
      "source": [
        "max(acc)"
      ],
      "execution_count": null,
      "outputs": [
        {
          "output_type": "execute_result",
          "data": {
            "text/plain": [
              "33.33333333333333"
            ]
          },
          "metadata": {},
          "execution_count": 51
        }
      ]
    },
    {
      "cell_type": "markdown",
      "metadata": {
        "id": "TyLqQk5foZ0j"
      },
      "source": [
        "##GRAPH"
      ]
    },
    {
      "cell_type": "code",
      "metadata": {
        "colab": {
          "base_uri": "https://localhost:8080/",
          "height": 499
        },
        "id": "jzOjC1cSnRGk",
        "outputId": "53ae1e9d-0d61-45fa-8f16-a413dd0cf845"
      },
      "source": [
        "import matplotlib.pyplot as plt\n",
        "\n",
        "plt.figure(figsize=(15,8))\n",
        "plt.plot(acc,color='red', linestyle='dashed', linewidth = 1,\n",
        "         marker='o', markerfacecolor='green', markersize=10)\n",
        "plt.grid(True, linestyle='-', linewidth=2, alpha=0.3, axis='y')\n",
        "plt.title('Akurasi KNN 1 - 100')\n",
        "plt.show()"
      ],
      "execution_count": null,
      "outputs": [
        {
          "output_type": "display_data",
          "data": {
            "image/png": "[encoded data removed]",
            "text/plain": [
              "<Figure size 1080x576 with 1 Axes>"
            ]
          },
          "metadata": {
            "needs_background": "light"
          }
        }
      ]
    },
    {
      "cell_type": "code",
      "metadata": {
        "colab": {
          "base_uri": "https://localhost:8080/",
          "height": 499
        },
        "id": "DMDZu1Kg2uQb",
        "outputId": "cca6605e-5b46-4388-bc90-777220b61ab9"
      },
      "source": [
        "plt.figure(figsize=(15,8))\n",
        "plt.plot(error,color='red', linestyle='dashed', linewidth = 1,\n",
        "         marker='o', markerfacecolor='red', markersize=10)\n",
        "plt.grid(True, linestyle='-', linewidth=2, alpha=0.3, axis='y')\n",
        "plt.title('Error rate KNN 1 - 100')\n",
        "plt.show()"
      ],
      "execution_count": null,
      "outputs": [
        {
          "output_type": "display_data",
          "data": {
            "image/png": "[encoded data removed]",
            "text/plain": [
              "<Figure size 1080x576 with 1 Axes>"
            ]
          },
          "metadata": {
            "needs_background": "light"
          }
        }
      ]
    }
  ]
}